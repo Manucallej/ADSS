{
 "cells": [
  {
   "cell_type": "markdown",
   "metadata": {},
   "source": [
    "# Exercise: Titanic Database\n",
    "    \n",
    "The JSON file `titanic.json` contains information about 1000+ passengers that were aboard the Titanic when it sunk in 1912. It's a document database: not all entries have the same fields, since there is a lot of missing data."
   ]
  },
  {
   "cell_type": "code",
   "execution_count": 18,
   "metadata": {},
   "outputs": [],
   "source": [
    "import json\n",
    "from pymongo import MongoClient"
   ]
  },
  {
   "cell_type": "markdown",
   "metadata": {},
   "source": [
    "**1) Load the JSON file into a MongoDB database.**"
   ]
  },
  {
   "cell_type": "code",
   "execution_count": 19,
   "metadata": {},
   "outputs": [
    {
     "name": "stdout",
     "output_type": "stream",
     "text": [
      "db is a <class 'pymongo.database.Database'>\n",
      "db.collection is a <class 'pymongo.collection.Collection'>\n"
     ]
    }
   ],
   "source": [
    "client = MongoClient('localhost', 27017)\n",
    "db = client.test_database\n",
    "db.collection.drop()  # This clears the collection\n",
    "print('db is a', type(db))\n",
    "print('db.collection is a', type(db.collection))"
   ]
  },
  {
   "cell_type": "code",
   "execution_count": 20,
   "metadata": {},
   "outputs": [],
   "source": [
    "with open('titanic.json', 'r') as data_file:  # Remember to change the file path as needed\n",
    "    data_json = json.load(data_file)\n",
    "    db.collection.insert_many(data_json)"
   ]
  },
  {
   "cell_type": "markdown",
   "metadata": {},
   "source": [
    "**2) Find out exactly how many passengers (number of documents) there are in the database.**"
   ]
  },
  {
   "cell_type": "code",
   "execution_count": 21,
   "metadata": {},
   "outputs": [
    {
     "data": {
      "text/plain": [
       "1309"
      ]
     },
     "execution_count": 21,
     "metadata": {},
     "output_type": "execute_result"
    }
   ],
   "source": [
    "len(list(db.collection.find(\n",
    "    {}\n",
    ")))"
   ]
  },
  {
   "cell_type": "markdown",
   "metadata": {},
   "source": [
    "**3) How old was passenger \"Bourke, Mr. John\"? (use the fields `name` and `age`)**"
   ]
  },
  {
   "cell_type": "code",
   "execution_count": 23,
   "metadata": {},
   "outputs": [
    {
     "data": {
      "text/plain": [
       "[{'age': 40.0}]"
      ]
     },
     "execution_count": 23,
     "metadata": {},
     "output_type": "execute_result"
    }
   ],
   "source": [
    "list(db.collection.find({\"name\": 'Bourke, Mr. John'},{\"age\": 1,\"_id\": 0}))\n"
   ]
  },
  {
   "cell_type": "markdown",
   "metadata": {},
   "source": [
    "**4) The field `survived` tells us whether a passenger survived (value 1) or not (value 0). Find out how many survived and how many did not (note: many have missing data).**"
   ]
  },
  {
   "cell_type": "code",
   "execution_count": 24,
   "metadata": {},
   "outputs": [
    {
     "data": {
      "text/plain": [
       "342"
      ]
     },
     "execution_count": 24,
     "metadata": {},
     "output_type": "execute_result"
    }
   ],
   "source": [
    "len(list(db.collection.find(\n",
    "    {'survived': 1}\n",
    ")))"
   ]
  },
  {
   "cell_type": "code",
   "execution_count": 25,
   "metadata": {},
   "outputs": [
    {
     "data": {
      "text/plain": [
       "549"
      ]
     },
     "execution_count": 25,
     "metadata": {},
     "output_type": "execute_result"
    }
   ],
   "source": [
    "len(list(db.collection.find(\n",
    "    {'survived': 0}\n",
    ")))"
   ]
  },
  {
   "cell_type": "markdown",
   "metadata": {},
   "source": [
    "**5) Who was the oldest survivor of the Titanic?**"
   ]
  },
  {
   "cell_type": "code",
   "execution_count": 34,
   "metadata": {},
   "outputs": [
    {
     "data": {
      "text/plain": [
       "[{'_id': 1, 'max_survivor_age': 80.0}]"
      ]
     },
     "execution_count": 34,
     "metadata": {},
     "output_type": "execute_result"
    }
   ],
   "source": [
    "list(db.collection.aggregate([\n",
    "    {'$match': {'survived': 1}},\n",
    "    {'$group': {'_id': 1, 'max_survivor_age': {'$max': '$age'}}}\n",
    "]))"
   ]
  },
  {
   "cell_type": "code",
   "execution_count": 37,
   "metadata": {},
   "outputs": [
    {
     "data": {
      "text/plain": [
       "[{'_id': 631,\n",
       "  'survived': 1.0,\n",
       "  'name': 'Barkworth, Mr. Algernon Henry Wilson',\n",
       "  'gender': 'male',\n",
       "  'age': 80.0,\n",
       "  'n_siblings_spouse': 0.0,\n",
       "  'n_parents_children': 0.0,\n",
       "  'ticket_number': '27042',\n",
       "  'fare': 30.0,\n",
       "  'cabin': 'A23',\n",
       "  'hometown': 'Hessle, East Yorkshire, England, UK',\n",
       "  'boarded_from': 'Southampton',\n",
       "  'destination': 'New York, New York, US',\n",
       "  'lifeboat': 'B',\n",
       "  'class': 1.0}]"
      ]
     },
     "execution_count": 37,
     "metadata": {},
     "output_type": "execute_result"
    }
   ],
   "source": [
    "list(db.collection.find(\n",
    "    {'age': 80.0}\n",
    "))"
   ]
  },
  {
   "cell_type": "markdown",
   "metadata": {},
   "source": [
    "**6) Find the survival rate (survivors/total) for each ticket class. (use the field `class`. There were three: 1, 2, 3)**"
   ]
  },
  {
   "cell_type": "code",
   "execution_count": 51,
   "metadata": {},
   "outputs": [
    {
     "name": "stdout",
     "output_type": "stream",
     "text": [
      "The survival rate for class 1 is 0.42024539877300615\n",
      "The survival rate for class 2 is 0.3161764705882353\n",
      "The survival rate for class 3 is 0.1671388101983003\n"
     ]
    }
   ],
   "source": [
    "surv_class1=len(list(db.collection.find({\"survived\": 1, \"class\":1})))/len(list(db.collection.find({\"class\":1})))\n",
    "surv_class2= len(list(db.collection.find({\"survived\": 1, \"class\":2})))/len(list(db.collection.find({\"class\":2})))\n",
    "surv_class3=len(list(db.collection.find({\"survived\": 1, \"class\":3})))/len(list(db.collection.find({\"class\":3})))\n",
    "#adds up to 341, there is 1 person that is not assigned a class.\n",
    "print(f\"The survival rate for class 1 is {surv_class1}\")\n",
    "print(f\"The survival rate for class 2 is {surv_class2}\")\n",
    "print(f\"The survival rate for class 3 is {surv_class3}\")\n"
   ]
  },
  {
   "cell_type": "markdown",
   "metadata": {},
   "source": [
    "**7) Which five passengers paid the five highest ticket prices? (use the field `fare`)**"
   ]
  },
  {
   "cell_type": "code",
   "execution_count": 56,
   "metadata": {},
   "outputs": [
    {
     "name": "stdout",
     "output_type": "stream",
     "text": [
      "name: Lesurer, Mr. Gustave J, fare: 512.3292\n",
      "name: Ward, Miss. Anna, fare: 512.3292\n",
      "name: Cardeza, Mrs. James Warburton Martinez (Charlotte Wardle Drake), fare: 512.3292\n",
      "name: Cardeza, Mr. Thomas Drake Martinez, fare: 512.3292\n",
      "name: Fortune, Miss. Mabel Helen, fare: 263.0\n"
     ]
    }
   ],
   "source": [
    "list_top_fares= list(db.collection.find().sort(\"fare\", -1).limit(5))\n",
    "for passenger in list_top_fares:\n",
    "        print(f\"name: {passenger['name']}, fare: {passenger['fare']}\")\n"
   ]
  },
  {
   "cell_type": "code",
   "execution_count": null,
   "metadata": {},
   "outputs": [],
   "source": []
  }
 ],
 "metadata": {
  "kernelspec": {
   "display_name": "Python 3",
   "language": "python",
   "name": "python3"
  },
  "language_info": {
   "codemirror_mode": {
    "name": "ipython",
    "version": 3
   },
   "file_extension": ".py",
   "mimetype": "text/x-python",
   "name": "python",
   "nbconvert_exporter": "python",
   "pygments_lexer": "ipython3",
   "version": "3.10.13"
  }
 },
 "nbformat": 4,
 "nbformat_minor": 4
}
